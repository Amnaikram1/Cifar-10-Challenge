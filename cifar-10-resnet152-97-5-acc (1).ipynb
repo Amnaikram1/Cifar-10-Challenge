{
 "cells": [
  {
   "cell_type": "code",
   "execution_count": 1,
   "id": "32029915",
   "metadata": {
    "_cell_guid": "b1076dfc-b9ad-4769-8c92-a6c4dae69d19",
    "_uuid": "8f2839f25d086af736a60e9eeb907d3b93b6e0e5",
    "execution": {
     "iopub.execute_input": "2024-07-07T22:31:14.255363Z",
     "iopub.status.busy": "2024-07-07T22:31:14.255082Z",
     "iopub.status.idle": "2024-07-07T22:31:15.003899Z",
     "shell.execute_reply": "2024-07-07T22:31:15.002811Z"
    },
    "papermill": {
     "duration": 0.757978,
     "end_time": "2024-07-07T22:31:15.005919",
     "exception": false,
     "start_time": "2024-07-07T22:31:14.247941",
     "status": "completed"
    },
    "tags": []
   },
   "outputs": [
    {
     "name": "stdout",
     "output_type": "stream",
     "text": [
      "/kaggle/input/cifar-10/trainLabels.csv\n",
      "/kaggle/input/cifar-10/sampleSubmission.csv\n",
      "/kaggle/input/cifar-10/test.7z\n",
      "/kaggle/input/cifar-10/train.7z\n"
     ]
    }
   ],
   "source": [
    "# This Python 3 environment comes with many helpful analytics libraries installed\n",
    "# It is defined by the kaggle/python Docker image: https://github.com/kaggle/docker-python\n",
    "# For example, here's several helpful packages to load\n",
    "\n",
    "import numpy as np # linear algebra\n",
    "import pandas as pd # data processing, CSV file I/O (e.g. pd.read_csv)\n",
    "\n",
    "# Input data files are available in the read-only \"../input/\" directory\n",
    "# For example, running this (by clicking run or pressing Shift+Enter) will list all files under the input directory\n",
    "\n",
    "import os\n",
    "for dirname, _, filenames in os.walk('/kaggle/input'):\n",
    "    for filename in filenames:\n",
    "        print(os.path.join(dirname, filename))\n",
    "\n",
    "# You can write up to 20GB to the current directory (/kaggle/working/) that gets preserved as output when you create a version using \"Save & Run All\" \n",
    "# You can also write temporary files to /kaggle/temp/, but they won't be saved outside of the current session"
   ]
  },
  {
   "cell_type": "markdown",
   "id": "7fd2ba9e",
   "metadata": {
    "papermill": {
     "duration": 0.005127,
     "end_time": "2024-07-07T22:31:15.016681",
     "exception": false,
     "start_time": "2024-07-07T22:31:15.011554",
     "status": "completed"
    },
    "tags": []
   },
   "source": [
    "## Install py7zr Package\n",
    "\n",
    "#####  py7zr is a library and utility to support 7zip archive compression, decompression, encryption and decryption written by Python programming language."
   ]
  },
  {
   "cell_type": "code",
   "execution_count": 2,
   "id": "30a0ca50",
   "metadata": {
    "execution": {
     "iopub.execute_input": "2024-07-07T22:31:15.028585Z",
     "iopub.status.busy": "2024-07-07T22:31:15.027931Z",
     "iopub.status.idle": "2024-07-07T22:31:30.714731Z",
     "shell.execute_reply": "2024-07-07T22:31:30.713503Z"
    },
    "papermill": {
     "duration": 15.695337,
     "end_time": "2024-07-07T22:31:30.717147",
     "exception": false,
     "start_time": "2024-07-07T22:31:15.021810",
     "status": "completed"
    },
    "tags": []
   },
   "outputs": [
    {
     "name": "stdout",
     "output_type": "stream",
     "text": [
      "Collecting py7zr\r\n",
      "  Downloading py7zr-0.21.1-py3-none-any.whl.metadata (17 kB)\r\n",
      "Requirement already satisfied: texttable in /opt/conda/lib/python3.10/site-packages (from py7zr) (1.7.0)\r\n",
      "Collecting pycryptodomex>=3.16.0 (from py7zr)\r\n",
      "  Downloading pycryptodomex-3.20.0-cp35-abi3-manylinux_2_17_x86_64.manylinux2014_x86_64.whl.metadata (3.4 kB)\r\n",
      "Collecting pyzstd>=0.15.9 (from py7zr)\r\n",
      "  Downloading pyzstd-0.16.0-cp310-cp310-manylinux_2_17_x86_64.manylinux2014_x86_64.whl.metadata (2.4 kB)\r\n",
      "Collecting pyppmd<1.2.0,>=1.1.0 (from py7zr)\r\n",
      "  Downloading pyppmd-1.1.0-cp310-cp310-manylinux_2_17_x86_64.manylinux2014_x86_64.whl.metadata (5.7 kB)\r\n",
      "Collecting pybcj<1.1.0,>=1.0.0 (from py7zr)\r\n",
      "  Downloading pybcj-1.0.2-cp310-cp310-manylinux_2_17_x86_64.manylinux2014_x86_64.whl.metadata (4.0 kB)\r\n",
      "Collecting multivolumefile>=0.2.3 (from py7zr)\r\n",
      "  Downloading multivolumefile-0.2.3-py3-none-any.whl.metadata (6.3 kB)\r\n",
      "Collecting inflate64<1.1.0,>=1.0.0 (from py7zr)\r\n",
      "  Downloading inflate64-1.0.0-cp310-cp310-manylinux_2_17_x86_64.manylinux2014_x86_64.whl.metadata (4.0 kB)\r\n",
      "Requirement already satisfied: brotli>=1.1.0 in /opt/conda/lib/python3.10/site-packages (from py7zr) (1.1.0)\r\n",
      "Requirement already satisfied: psutil in /opt/conda/lib/python3.10/site-packages (from py7zr) (5.9.3)\r\n",
      "Downloading py7zr-0.21.1-py3-none-any.whl (67 kB)\r\n",
      "\u001b[2K   \u001b[90m━━━━━━━━━━━━━━━━━━━━━━━━━━━━━━━━━━━━━━━━\u001b[0m \u001b[32m67.8/67.8 kB\u001b[0m \u001b[31m3.2 MB/s\u001b[0m eta \u001b[36m0:00:00\u001b[0m\r\n",
      "\u001b[?25hDownloading inflate64-1.0.0-cp310-cp310-manylinux_2_17_x86_64.manylinux2014_x86_64.whl (93 kB)\r\n",
      "\u001b[2K   \u001b[90m━━━━━━━━━━━━━━━━━━━━━━━━━━━━━━━━━━━━━━━━\u001b[0m \u001b[32m93.1/93.1 kB\u001b[0m \u001b[31m6.1 MB/s\u001b[0m eta \u001b[36m0:00:00\u001b[0m\r\n",
      "\u001b[?25hDownloading multivolumefile-0.2.3-py3-none-any.whl (17 kB)\r\n",
      "Downloading pybcj-1.0.2-cp310-cp310-manylinux_2_17_x86_64.manylinux2014_x86_64.whl (49 kB)\r\n",
      "\u001b[2K   \u001b[90m━━━━━━━━━━━━━━━━━━━━━━━━━━━━━━━━━━━━━━━━\u001b[0m \u001b[32m49.7/49.7 kB\u001b[0m \u001b[31m3.0 MB/s\u001b[0m eta \u001b[36m0:00:00\u001b[0m\r\n",
      "\u001b[?25hDownloading pycryptodomex-3.20.0-cp35-abi3-manylinux_2_17_x86_64.manylinux2014_x86_64.whl (2.1 MB)\r\n",
      "\u001b[2K   \u001b[90m━━━━━━━━━━━━━━━━━━━━━━━━━━━━━━━━━━━━━━━━\u001b[0m \u001b[32m2.1/2.1 MB\u001b[0m \u001b[31m47.3 MB/s\u001b[0m eta \u001b[36m0:00:00\u001b[0m\r\n",
      "\u001b[?25hDownloading pyppmd-1.1.0-cp310-cp310-manylinux_2_17_x86_64.manylinux2014_x86_64.whl (138 kB)\r\n",
      "\u001b[2K   \u001b[90m━━━━━━━━━━━━━━━━━━━━━━━━━━━━━━━━━━━━━━━━\u001b[0m \u001b[32m138.9/138.9 kB\u001b[0m \u001b[31m8.8 MB/s\u001b[0m eta \u001b[36m0:00:00\u001b[0m\r\n",
      "\u001b[?25hDownloading pyzstd-0.16.0-cp310-cp310-manylinux_2_17_x86_64.manylinux2014_x86_64.whl (413 kB)\r\n",
      "\u001b[2K   \u001b[90m━━━━━━━━━━━━━━━━━━━━━━━━━━━━━━━━━━━━━━━━\u001b[0m \u001b[32m413.8/413.8 kB\u001b[0m \u001b[31m24.0 MB/s\u001b[0m eta \u001b[36m0:00:00\u001b[0m\r\n",
      "\u001b[?25hInstalling collected packages: pyzstd, pyppmd, pycryptodomex, pybcj, multivolumefile, inflate64, py7zr\r\n",
      "Successfully installed inflate64-1.0.0 multivolumefile-0.2.3 py7zr-0.21.1 pybcj-1.0.2 pycryptodomex-3.20.0 pyppmd-1.1.0 pyzstd-0.16.0\r\n",
      "Note: you may need to restart the kernel to use updated packages.\n"
     ]
    }
   ],
   "source": [
    "pip install py7zr"
   ]
  },
  {
   "cell_type": "markdown",
   "id": "4a0d8174",
   "metadata": {
    "papermill": {
     "duration": 0.006572,
     "end_time": "2024-07-07T22:31:30.730605",
     "exception": false,
     "start_time": "2024-07-07T22:31:30.724033",
     "status": "completed"
    },
    "tags": []
   },
   "source": [
    "## Extract Training Dataset from 7zr archive"
   ]
  },
  {
   "cell_type": "code",
   "execution_count": 3,
   "id": "cbf19751",
   "metadata": {
    "execution": {
     "iopub.execute_input": "2024-07-07T22:31:30.745557Z",
     "iopub.status.busy": "2024-07-07T22:31:30.745212Z",
     "iopub.status.idle": "2024-07-07T22:32:01.844210Z",
     "shell.execute_reply": "2024-07-07T22:32:01.843314Z"
    },
    "papermill": {
     "duration": 31.115511,
     "end_time": "2024-07-07T22:32:01.852923",
     "exception": false,
     "start_time": "2024-07-07T22:31:30.737412",
     "status": "completed"
    },
    "tags": []
   },
   "outputs": [
    {
     "name": "stdout",
     "output_type": "stream",
     "text": [
      "Processing Completed\n"
     ]
    }
   ],
   "source": [
    "import py7zr\n",
    "\n",
    "# Define paths for extract and archive\n",
    "archive_path = '../input/cifar-10/train.7z'\n",
    "extract_folder = '/kaggle/temp'\n",
    "\n",
    "# Extract the 7zr archive\n",
    "with py7zr.SevenZipFile(archive_path, mode='r') as archive:\n",
    "    archive.extractall(path=extract_folder)\n",
    "\n",
    "# Load the labels CSV file\n",
    "train_labels = pd.read_csv('/kaggle/input/cifar-10/trainLabels.csv')\n",
    "\n",
    "# Define paths for train and validation datsets\n",
    "dataset_path_train = '/kaggle/temp/train'\n",
    "dataset_path_valid = '/kaggle/temp/valid'\n",
    "\n",
    "# Define the class names\n",
    "classes = ['airplane', 'automobile', 'bird', 'cat', 'deer', 'dog', 'frog', 'horse', 'ship', 'truck']\n",
    "\n",
    "# Create directories for each class in train and validation folders\n",
    "for label in classes:\n",
    "    train_path = os.path.join(dataset_path_train, label)\n",
    "    os.makedirs(train_path, exist_ok=True)\n",
    "    \n",
    "    valid_path = os.path.join(dataset_path_valid, label)\n",
    "    os.makedirs(valid_path, exist_ok=True)\n",
    "\n",
    "# Iterate over each label in the CSV    \n",
    "for (int_ind, row) in train_labels.iterrows():\n",
    "    # Construct the image file name\n",
    "    id = str(row[\"id\"]) + \".png\"\n",
    "    source_path = os.path.join(dataset_path_train, id)\n",
    "    \n",
    "    # Check if the image file exists\n",
    "    if not os.path.exists(source_path):\n",
    "        print(f\"Missing source File: {source_path}\")\n",
    "        continue\n",
    "        \n",
    "    # Randomly assign the image to train (80%) or validation (20%) set\n",
    "    p = np.random.random()\n",
    "    if p <= 0.8:\n",
    "        target_path = os.path.join(dataset_path_train, row[\"label\"], id)\n",
    "    else:\n",
    "        target_path = os.path.join(dataset_path_valid, row[\"label\"], id)\n",
    "    \n",
    "    # Move the image file to the corresponding target directory\n",
    "    os.replace(source_path, target_path)\n",
    "    \n",
    "print(\"Processing Completed\")"
   ]
  },
  {
   "cell_type": "markdown",
   "id": "aacf8c58",
   "metadata": {
    "papermill": {
     "duration": 0.0066,
     "end_time": "2024-07-07T22:32:01.866409",
     "exception": false,
     "start_time": "2024-07-07T22:32:01.859809",
     "status": "completed"
    },
    "tags": []
   },
   "source": [
    "## Extract Test Dataset from 7zr archive"
   ]
  },
  {
   "cell_type": "code",
   "execution_count": 4,
   "id": "136717d5",
   "metadata": {
    "execution": {
     "iopub.execute_input": "2024-07-07T22:32:01.881255Z",
     "iopub.status.busy": "2024-07-07T22:32:01.880966Z",
     "iopub.status.idle": "2024-07-07T22:34:33.978339Z",
     "shell.execute_reply": "2024-07-07T22:34:33.977284Z"
    },
    "papermill": {
     "duration": 152.107663,
     "end_time": "2024-07-07T22:34:33.980921",
     "exception": false,
     "start_time": "2024-07-07T22:32:01.873258",
     "status": "completed"
    },
    "tags": []
   },
   "outputs": [],
   "source": [
    "# Define the path to the 7-zip archive containing the test data\n",
    "archive_path = '/kaggle/input/cifar-10/test.7z'\n",
    "\n",
    "# Define the directory where the contents of the archive will be extracted\n",
    "extract_folder = '/kaggle/temp/test'\n",
    "\n",
    "# Open the 7-zip archive in read mode\n",
    "with py7zr.SevenZipFile(archive_path, mode='r') as archive:\n",
    "    # Extract all the contents of the archive to the specified directory\n",
    "    archive.extractall(path=extract_folder)\n"
   ]
  },
  {
   "cell_type": "code",
   "execution_count": 5,
   "id": "61055000",
   "metadata": {
    "execution": {
     "iopub.execute_input": "2024-07-07T22:34:33.997961Z",
     "iopub.status.busy": "2024-07-07T22:34:33.997665Z",
     "iopub.status.idle": "2024-07-07T22:34:34.455181Z",
     "shell.execute_reply": "2024-07-07T22:34:34.454186Z"
    },
    "papermill": {
     "duration": 0.468864,
     "end_time": "2024-07-07T22:34:34.457570",
     "exception": false,
     "start_time": "2024-07-07T22:34:33.988706",
     "status": "completed"
    },
    "tags": []
   },
   "outputs": [],
   "source": [
    "# Get the number of files in the test directory\n",
    "len(os.listdir('/kaggle/temp/test/test'))\n",
    "\n",
    "# Define the path to the test directory\n",
    "path = '/kaggle/temp/test/test'\n",
    "\n",
    "# List all files in the test directory\n",
    "f = os.listdir(path)\n",
    "\n",
    "# Create a new list with the full path of each file\n",
    "new = [str(path) + '/' + s for s in f]\n"
   ]
  },
  {
   "cell_type": "markdown",
   "id": "140ed44f",
   "metadata": {
    "papermill": {
     "duration": 0.00658,
     "end_time": "2024-07-07T22:34:34.471269",
     "exception": false,
     "start_time": "2024-07-07T22:34:34.464689",
     "status": "completed"
    },
    "tags": []
   },
   "source": [
    "## Fastai vision\n",
    "**Fastai is a high-level deep learning library built on top of PyTorch and provides a simplified interface for training neural networks with best practices in deep learning**"
   ]
  },
  {
   "cell_type": "markdown",
   "id": "81312c43",
   "metadata": {
    "papermill": {
     "duration": 0.006536,
     "end_time": "2024-07-07T22:34:34.484621",
     "exception": false,
     "start_time": "2024-07-07T22:34:34.478085",
     "status": "completed"
    },
    "tags": []
   },
   "source": [
    "# Data Loader\n",
    "**A `data loader` specifically refers to an object that encapsulates the training, validation, and optionally test datasets in a format suitable for training deep learning models.**\n",
    "\n",
    "It provides a high level interface to specify:\n",
    "* Data Source\n",
    "* Data Augmentation\n",
    "* Batching\n",
    "* Normalization"
   ]
  },
  {
   "cell_type": "code",
   "execution_count": 6,
   "id": "0872f431",
   "metadata": {
    "execution": {
     "iopub.execute_input": "2024-07-07T22:34:34.499422Z",
     "iopub.status.busy": "2024-07-07T22:34:34.499124Z",
     "iopub.status.idle": "2024-07-07T22:34:48.990743Z",
     "shell.execute_reply": "2024-07-07T22:34:48.989933Z"
    },
    "papermill": {
     "duration": 14.501678,
     "end_time": "2024-07-07T22:34:48.993049",
     "exception": false,
     "start_time": "2024-07-07T22:34:34.491371",
     "status": "completed"
    },
    "tags": []
   },
   "outputs": [],
   "source": [
    "# Import all necessary functions and classes from fastai.vision\n",
    "from fastai.vision.all import *  \n",
    "\n",
    "# Define the Image Data Loaders\n",
    "dls = ImageDataLoaders.from_folder(\n",
    "    path='/kaggle/temp',              # Path to the folder containing 'train' and 'valid' subdirectories\n",
    "    train='train',                    # Name of the training data subdirectory\n",
    "    valid='valid',                    # Name of the validation data subdirectory\n",
    "    item_tfms=Resize(224),            # Resize all images to 224x224 pixels\n",
    "    bs=64,                            # Batch size of 64\n",
    "    batch_tfms=[*aug_transforms(),    # Apply data augmentation transformations\n",
    "                Normalize.from_stats(*imagenet_stats)]  # Normalize images using ImageNet statistics\n",
    ")\n",
    "\n"
   ]
  },
  {
   "cell_type": "markdown",
   "id": "a1179d3c",
   "metadata": {
    "papermill": {
     "duration": 0.009907,
     "end_time": "2024-07-07T22:34:49.010169",
     "exception": false,
     "start_time": "2024-07-07T22:34:49.000262",
     "status": "completed"
    },
    "tags": []
   },
   "source": [
    "# CNN Learner\n",
    "\n",
    "**A `Learner` in Fastai is an object that encapsulates the model architecture, the data loaders (created using the DataBlock API), and various other settings necessary for training and evaluating a deep learning model.**"
   ]
  },
  {
   "cell_type": "code",
   "execution_count": 7,
   "id": "d5dd337e",
   "metadata": {
    "execution": {
     "iopub.execute_input": "2024-07-07T22:34:49.025907Z",
     "iopub.status.busy": "2024-07-07T22:34:49.025591Z",
     "iopub.status.idle": "2024-07-08T00:05:55.840178Z",
     "shell.execute_reply": "2024-07-08T00:05:55.839129Z"
    },
    "papermill": {
     "duration": 5466.824713,
     "end_time": "2024-07-08T00:05:55.842345",
     "exception": false,
     "start_time": "2024-07-07T22:34:49.017632",
     "status": "completed"
    },
    "tags": []
   },
   "outputs": [
    {
     "name": "stderr",
     "output_type": "stream",
     "text": [
      "/opt/conda/lib/python3.10/site-packages/fastai/vision/learner.py:301: UserWarning: `cnn_learner` has been renamed to `vision_learner` -- please update your code\n",
      "  warn(\"`cnn_learner` has been renamed to `vision_learner` -- please update your code\")\n",
      "Downloading: \"https://download.pytorch.org/models/resnet152-f82ba261.pth\" to /root/.cache/torch/hub/checkpoints/resnet152-f82ba261.pth\n",
      "100%|██████████| 230M/230M [00:01<00:00, 155MB/s]\n"
     ]
    },
    {
     "data": {
      "text/html": [
       "\n",
       "<style>\n",
       "    /* Turns off some styling */\n",
       "    progress {\n",
       "        /* gets rid of default border in Firefox and Opera. */\n",
       "        border: none;\n",
       "        /* Needs to be in here for Safari polyfill so background images work as expected. */\n",
       "        background-size: auto;\n",
       "    }\n",
       "    progress:not([value]), progress:not([value])::-webkit-progress-bar {\n",
       "        background: repeating-linear-gradient(45deg, #7e7e7e, #7e7e7e 10px, #5c5c5c 10px, #5c5c5c 20px);\n",
       "    }\n",
       "    .progress-bar-interrupted, .progress-bar-interrupted::-webkit-progress-bar {\n",
       "        background: #F44336;\n",
       "    }\n",
       "</style>\n"
      ],
      "text/plain": [
       "<IPython.core.display.HTML object>"
      ]
     },
     "metadata": {},
     "output_type": "display_data"
    },
    {
     "data": {
      "text/html": [
       "<table border=\"1\" class=\"dataframe\">\n",
       "  <thead>\n",
       "    <tr style=\"text-align: left;\">\n",
       "      <th>epoch</th>\n",
       "      <th>train_loss</th>\n",
       "      <th>valid_loss</th>\n",
       "      <th>error_rate</th>\n",
       "      <th>time</th>\n",
       "    </tr>\n",
       "  </thead>\n",
       "  <tbody>\n",
       "    <tr>\n",
       "      <td>0</td>\n",
       "      <td>0.789170</td>\n",
       "      <td>0.480338</td>\n",
       "      <td>0.161076</td>\n",
       "      <td>06:25</td>\n",
       "    </tr>\n",
       "  </tbody>\n",
       "</table>"
      ],
      "text/plain": [
       "<IPython.core.display.HTML object>"
      ]
     },
     "metadata": {},
     "output_type": "display_data"
    },
    {
     "data": {
      "text/html": [
       "\n",
       "<style>\n",
       "    /* Turns off some styling */\n",
       "    progress {\n",
       "        /* gets rid of default border in Firefox and Opera. */\n",
       "        border: none;\n",
       "        /* Needs to be in here for Safari polyfill so background images work as expected. */\n",
       "        background-size: auto;\n",
       "    }\n",
       "    progress:not([value]), progress:not([value])::-webkit-progress-bar {\n",
       "        background: repeating-linear-gradient(45deg, #7e7e7e, #7e7e7e 10px, #5c5c5c 10px, #5c5c5c 20px);\n",
       "    }\n",
       "    .progress-bar-interrupted, .progress-bar-interrupted::-webkit-progress-bar {\n",
       "        background: #F44336;\n",
       "    }\n",
       "</style>\n"
      ],
      "text/plain": [
       "<IPython.core.display.HTML object>"
      ]
     },
     "metadata": {},
     "output_type": "display_data"
    },
    {
     "data": {
      "text/html": [
       "<table border=\"1\" class=\"dataframe\">\n",
       "  <thead>\n",
       "    <tr style=\"text-align: left;\">\n",
       "      <th>epoch</th>\n",
       "      <th>train_loss</th>\n",
       "      <th>valid_loss</th>\n",
       "      <th>error_rate</th>\n",
       "      <th>time</th>\n",
       "    </tr>\n",
       "  </thead>\n",
       "  <tbody>\n",
       "    <tr>\n",
       "      <td>0</td>\n",
       "      <td>0.261023</td>\n",
       "      <td>0.155409</td>\n",
       "      <td>0.051252</td>\n",
       "      <td>08:27</td>\n",
       "    </tr>\n",
       "    <tr>\n",
       "      <td>1</td>\n",
       "      <td>0.168334</td>\n",
       "      <td>0.109696</td>\n",
       "      <td>0.035817</td>\n",
       "      <td>08:27</td>\n",
       "    </tr>\n",
       "    <tr>\n",
       "      <td>2</td>\n",
       "      <td>0.132509</td>\n",
       "      <td>0.104100</td>\n",
       "      <td>0.034432</td>\n",
       "      <td>08:27</td>\n",
       "    </tr>\n",
       "    <tr>\n",
       "      <td>3</td>\n",
       "      <td>0.112426</td>\n",
       "      <td>0.104019</td>\n",
       "      <td>0.034531</td>\n",
       "      <td>08:27</td>\n",
       "    </tr>\n",
       "    <tr>\n",
       "      <td>4</td>\n",
       "      <td>0.076700</td>\n",
       "      <td>0.094407</td>\n",
       "      <td>0.029386</td>\n",
       "      <td>08:27</td>\n",
       "    </tr>\n",
       "    <tr>\n",
       "      <td>5</td>\n",
       "      <td>0.039647</td>\n",
       "      <td>0.085106</td>\n",
       "      <td>0.025824</td>\n",
       "      <td>08:29</td>\n",
       "    </tr>\n",
       "    <tr>\n",
       "      <td>6</td>\n",
       "      <td>0.026478</td>\n",
       "      <td>0.091384</td>\n",
       "      <td>0.025131</td>\n",
       "      <td>08:27</td>\n",
       "    </tr>\n",
       "    <tr>\n",
       "      <td>7</td>\n",
       "      <td>0.015146</td>\n",
       "      <td>0.086238</td>\n",
       "      <td>0.021173</td>\n",
       "      <td>08:28</td>\n",
       "    </tr>\n",
       "    <tr>\n",
       "      <td>8</td>\n",
       "      <td>0.007043</td>\n",
       "      <td>0.081886</td>\n",
       "      <td>0.020085</td>\n",
       "      <td>08:28</td>\n",
       "    </tr>\n",
       "    <tr>\n",
       "      <td>9</td>\n",
       "      <td>0.004877</td>\n",
       "      <td>0.080680</td>\n",
       "      <td>0.019392</td>\n",
       "      <td>08:27</td>\n",
       "    </tr>\n",
       "  </tbody>\n",
       "</table>"
      ],
      "text/plain": [
       "<IPython.core.display.HTML object>"
      ]
     },
     "metadata": {},
     "output_type": "display_data"
    }
   ],
   "source": [
    "# Create a learner with a pre-trained ResNet152 model\n",
    "learn = cnn_learner(dls, resnet152, metrics=error_rate)\n",
    "\n",
    "# Fine-tune the model for 5 epochs\n",
    "learn.fine_tune(10)  "
   ]
  },
  {
   "cell_type": "markdown",
   "id": "bd880e21",
   "metadata": {
    "papermill": {
     "duration": 0.008993,
     "end_time": "2024-07-08T00:05:55.860884",
     "exception": false,
     "start_time": "2024-07-08T00:05:55.851891",
     "status": "completed"
    },
    "tags": []
   },
   "source": [
    "# Predictions on Test Set"
   ]
  },
  {
   "cell_type": "code",
   "execution_count": 8,
   "id": "9dfa64b4",
   "metadata": {
    "execution": {
     "iopub.execute_input": "2024-07-08T00:05:55.880155Z",
     "iopub.status.busy": "2024-07-08T00:05:55.879826Z",
     "iopub.status.idle": "2024-07-08T00:24:07.076847Z",
     "shell.execute_reply": "2024-07-08T00:24:07.075940Z"
    },
    "papermill": {
     "duration": 1091.209631,
     "end_time": "2024-07-08T00:24:07.079312",
     "exception": false,
     "start_time": "2024-07-08T00:05:55.869681",
     "status": "completed"
    },
    "tags": []
   },
   "outputs": [
    {
     "data": {
      "text/html": [
       "\n",
       "<style>\n",
       "    /* Turns off some styling */\n",
       "    progress {\n",
       "        /* gets rid of default border in Firefox and Opera. */\n",
       "        border: none;\n",
       "        /* Needs to be in here for Safari polyfill so background images work as expected. */\n",
       "        background-size: auto;\n",
       "    }\n",
       "    progress:not([value]), progress:not([value])::-webkit-progress-bar {\n",
       "        background: repeating-linear-gradient(45deg, #7e7e7e, #7e7e7e 10px, #5c5c5c 10px, #5c5c5c 20px);\n",
       "    }\n",
       "    .progress-bar-interrupted, .progress-bar-interrupted::-webkit-progress-bar {\n",
       "        background: #F44336;\n",
       "    }\n",
       "</style>\n"
      ],
      "text/plain": [
       "<IPython.core.display.HTML object>"
      ]
     },
     "metadata": {},
     "output_type": "display_data"
    },
    {
     "data": {
      "text/html": [],
      "text/plain": [
       "<IPython.core.display.HTML object>"
      ]
     },
     "metadata": {},
     "output_type": "display_data"
    }
   ],
   "source": [
    "# Create a test DataLoader from the list of file paths\n",
    "test_dl = learn.dls.test_dl(new)\n",
    "\n",
    "# Get predictions for the test data\n",
    "class_score, y = learn.get_preds(dl=test_dl)\n",
    "\n",
    "# Get the predicted class indices\n",
    "class_score = np.argmax(class_score, axis=1)\n",
    "\n",
    "# Get the prediction for the second test image (index 1)\n",
    "class_score[1].item()\n",
    "\n",
    "# Convert the predicted class indices to a list\n",
    "classScore = class_score.tolist()\n",
    "\n",
    "# Get the vocabulary of classes\n",
    "learn.dls.vocab\n",
    "\n",
    "# Define a dictionary mapping class indices to class names\n",
    "classes = {0: 'airplane', 1: 'automobile', 2: 'bird', 3: 'cat', 4: 'deer', 5: 'dog', 6: 'frog', 7: 'horse', 8: 'ship', 9: 'truck'}\n",
    "\n",
    "# Initialize an empty array to store the predicted classes\n",
    "predicted_classes = np.empty(shape=300000, dtype=np.dtype('U20'))\n"
   ]
  },
  {
   "cell_type": "code",
   "execution_count": 9,
   "id": "0de7fba5",
   "metadata": {
    "execution": {
     "iopub.execute_input": "2024-07-08T00:24:07.100309Z",
     "iopub.status.busy": "2024-07-08T00:24:07.099998Z",
     "iopub.status.idle": "2024-07-08T00:24:07.285682Z",
     "shell.execute_reply": "2024-07-08T00:24:07.284747Z"
    },
    "papermill": {
     "duration": 0.198943,
     "end_time": "2024-07-08T00:24:07.288174",
     "exception": false,
     "start_time": "2024-07-08T00:24:07.089231",
     "status": "completed"
    },
    "tags": []
   },
   "outputs": [],
   "source": [
    "# Initialize an index variable\n",
    "index = 0\n",
    "\n",
    "# Loop through the list of predicted class indices\n",
    "for i in classScore:\n",
    "    # Assign the class name corresponding to the class index to the predicted_classes array\n",
    "    predicted_classes[index] = classes[i]\n",
    "    \n",
    "    # Increment the index for the next iteration\n",
    "    index += 1\n"
   ]
  },
  {
   "cell_type": "code",
   "execution_count": 10,
   "id": "be138a36",
   "metadata": {
    "execution": {
     "iopub.execute_input": "2024-07-08T00:24:07.308619Z",
     "iopub.status.busy": "2024-07-08T00:24:07.308305Z",
     "iopub.status.idle": "2024-07-08T00:24:08.199727Z",
     "shell.execute_reply": "2024-07-08T00:24:08.198940Z"
    },
    "papermill": {
     "duration": 0.904238,
     "end_time": "2024-07-08T00:24:08.201988",
     "exception": false,
     "start_time": "2024-07-08T00:24:07.297750",
     "status": "completed"
    },
    "tags": []
   },
   "outputs": [],
   "source": [
    "import os\n",
    "import pandas as pd\n",
    "\n",
    "# Define the directory containing the test images\n",
    "directory = '/kaggle/temp/test/test'\n",
    "\n",
    "# Extract image IDs by filtering out non-digit characters from the file names\n",
    "ImageId = [ (''.join(filter(str.isdigit, name))) for name in os.listdir(directory)]\n",
    "\n",
    "# Create a DataFrame for the submission with 'id' and 'label' columns\n",
    "submission = pd.DataFrame({\n",
    "    \"id\": ImageId,          # Assign the extracted image IDs to the 'id' column\n",
    "    \"label\": predicted_classes  # Assign the predicted class names to the 'label' column\n",
    "})\n",
    "\n",
    "# Convert the 'id' column to integers\n",
    "submission['id'] = submission['id'].astype(int)\n",
    "\n",
    "# Save the DataFrame to a CSV file for submission, without the index\n",
    "submission.to_csv('submission.csv', index=False)\n"
   ]
  },
  {
   "cell_type": "markdown",
   "id": "34c505b4",
   "metadata": {
    "papermill": {
     "duration": 0.009121,
     "end_time": "2024-07-08T00:24:08.220791",
     "exception": false,
     "start_time": "2024-07-08T00:24:08.211670",
     "status": "completed"
    },
    "tags": []
   },
   "source": [
    "# Comparison of Diffrent Models"
   ]
  },
  {
   "cell_type": "code",
   "execution_count": 11,
   "id": "71f9e31c",
   "metadata": {
    "execution": {
     "iopub.execute_input": "2024-07-08T00:24:08.240595Z",
     "iopub.status.busy": "2024-07-08T00:24:08.240268Z",
     "iopub.status.idle": "2024-07-08T00:24:08.280490Z",
     "shell.execute_reply": "2024-07-08T00:24:08.279508Z"
    },
    "papermill": {
     "duration": 0.052531,
     "end_time": "2024-07-08T00:24:08.282485",
     "exception": false,
     "start_time": "2024-07-08T00:24:08.229954",
     "status": "completed"
    },
    "tags": []
   },
   "outputs": [
    {
     "name": "stdout",
     "output_type": "stream",
     "text": [
      "╒════════════════════════╤════════════╕\n",
      "│ Model                  │ Accuracy   │\n",
      "╞════════════════════════╪════════════╡\n",
      "│ CNN                    │ 28%        │\n",
      "├────────────────────────┼────────────┤\n",
      "│ ResNet50               │ 46%        │\n",
      "├────────────────────────┼────────────┤\n",
      "│ ResNet152 (Fine-tuned) │ 97%        │\n",
      "╘════════════════════════╧════════════╛\n"
     ]
    }
   ],
   "source": [
    "# Importing necessary libraries\n",
    "from tabulate import tabulate\n",
    "\n",
    "# Data for the table\n",
    "data = [\n",
    "    [\"CNN\", \"28%\"],\n",
    "    [\"ResNet50\", \"46%\"],\n",
    "    [\"ResNet152 (Fine-tuned)\", \"97%\"]\n",
    "]\n",
    "\n",
    "# Headers for the table\n",
    "headers = [\"Model\", \"Accuracy\"]\n",
    "\n",
    "# Printing the table using tabulate\n",
    "table = tabulate(data, headers, tablefmt=\"fancy_grid\")\n",
    "\n",
    "# Displaying the table\n",
    "print(table)\n"
   ]
  },
  {
   "cell_type": "code",
   "execution_count": null,
   "id": "b0e777a7",
   "metadata": {
    "papermill": {
     "duration": 0.009411,
     "end_time": "2024-07-08T00:24:08.301346",
     "exception": false,
     "start_time": "2024-07-08T00:24:08.291935",
     "status": "completed"
    },
    "tags": []
   },
   "outputs": [],
   "source": []
  }
 ],
 "metadata": {
  "kaggle": {
   "accelerator": "gpu",
   "dataSources": [
    {
     "databundleVersionId": 46718,
     "sourceId": 3649,
     "sourceType": "competition"
    }
   ],
   "dockerImageVersionId": 30733,
   "isGpuEnabled": true,
   "isInternetEnabled": true,
   "language": "python",
   "sourceType": "notebook"
  },
  "kernelspec": {
   "display_name": "Python 3",
   "language": "python",
   "name": "python3"
  },
  "language_info": {
   "codemirror_mode": {
    "name": "ipython",
    "version": 3
   },
   "file_extension": ".py",
   "mimetype": "text/x-python",
   "name": "python",
   "nbconvert_exporter": "python",
   "pygments_lexer": "ipython3",
   "version": "3.10.13"
  },
  "papermill": {
   "default_parameters": {},
   "duration": 6778.84201,
   "end_time": "2024-07-08T00:24:10.349350",
   "environment_variables": {},
   "exception": null,
   "input_path": "__notebook__.ipynb",
   "output_path": "__notebook__.ipynb",
   "parameters": {},
   "start_time": "2024-07-07T22:31:11.507340",
   "version": "2.5.0"
  }
 },
 "nbformat": 4,
 "nbformat_minor": 5
}
