{
 "cells": [
  {
   "cell_type": "code",
   "execution_count": 1,
   "id": "c0af40b1",
   "metadata": {
    "_cell_guid": "b1076dfc-b9ad-4769-8c92-a6c4dae69d19",
    "_uuid": "8f2839f25d086af736a60e9eeb907d3b93b6e0e5",
    "execution": {
     "iopub.execute_input": "2024-07-07T19:59:44.853265Z",
     "iopub.status.busy": "2024-07-07T19:59:44.852854Z",
     "iopub.status.idle": "2024-07-07T19:59:45.700714Z",
     "shell.execute_reply": "2024-07-07T19:59:45.699551Z"
    },
    "papermill": {
     "duration": 0.857743,
     "end_time": "2024-07-07T19:59:45.703154",
     "exception": false,
     "start_time": "2024-07-07T19:59:44.845411",
     "status": "completed"
    },
    "tags": []
   },
   "outputs": [
    {
     "name": "stdout",
     "output_type": "stream",
     "text": [
      "/kaggle/input/cifar-10/trainLabels.csv\n",
      "/kaggle/input/cifar-10/sampleSubmission.csv\n",
      "/kaggle/input/cifar-10/test.7z\n",
      "/kaggle/input/cifar-10/train.7z\n",
      "/kaggle/input/cifar-10-resnet152-97-5-acc/__results__.html\n",
      "/kaggle/input/cifar-10-resnet152-97-5-acc/fine_tuned_model_alternative.h5\n",
      "/kaggle/input/cifar-10-resnet152-97-5-acc/submission.csv\n",
      "/kaggle/input/cifar-10-resnet152-97-5-acc/__notebook__.ipynb\n",
      "/kaggle/input/cifar-10-resnet152-97-5-acc/__output__.json\n",
      "/kaggle/input/cifar-10-resnet152-97-5-acc/custom.css\n",
      "/kaggle/input/cifar-10-resnet152-97-5-acc/__results___files/__results___8_7.png\n",
      "/kaggle/input/cifar-10-resnet152-97-5-acc/__results___files/__results___8_6.png\n"
     ]
    }
   ],
   "source": [
    "# This Python 3 environment comes with many helpful analytics libraries installed\n",
    "# It is defined by the kaggle/python Docker image: https://github.com/kaggle/docker-python\n",
    "# For example, here's several helpful packages to load\n",
    "\n",
    "import numpy as np # linear algebra\n",
    "import pandas as pd # data processing, CSV file I/O (e.g. pd.read_csv)\n",
    "\n",
    "# Input data files are available in the read-only \"../input/\" directory\n",
    "# For example, running this (by clicking run or pressing Shift+Enter) will list all files under the input directory\n",
    "\n",
    "import os\n",
    "for dirname, _, filenames in os.walk('/kaggle/input'):\n",
    "    for filename in filenames:\n",
    "        print(os.path.join(dirname, filename))\n",
    "\n",
    "# You can write up to 20GB to the current directory (/kaggle/working/) that gets preserved as output when you create a version using \"Save & Run All\" \n",
    "# You can also write temporary files to /kaggle/temp/, but they won't be saved outside of the current session"
   ]
  },
  {
   "cell_type": "markdown",
   "id": "0c485c78",
   "metadata": {
    "papermill": {
     "duration": 0.005413,
     "end_time": "2024-07-07T19:59:45.714605",
     "exception": false,
     "start_time": "2024-07-07T19:59:45.709192",
     "status": "completed"
    },
    "tags": []
   },
   "source": [
    "## Install py7zr Package\n",
    "\n",
    "#####  py7zr is a library and utility to support 7zip archive compression, decompression, encryption and decryption written by Python programming language."
   ]
  },
  {
   "cell_type": "code",
   "execution_count": 2,
   "id": "5d5caa91",
   "metadata": {
    "execution": {
     "iopub.execute_input": "2024-07-07T19:59:45.727635Z",
     "iopub.status.busy": "2024-07-07T19:59:45.727108Z",
     "iopub.status.idle": "2024-07-07T20:00:02.309904Z",
     "shell.execute_reply": "2024-07-07T20:00:02.308573Z"
    },
    "papermill": {
     "duration": 16.592067,
     "end_time": "2024-07-07T20:00:02.312181",
     "exception": false,
     "start_time": "2024-07-07T19:59:45.720114",
     "status": "completed"
    },
    "tags": []
   },
   "outputs": [
    {
     "name": "stdout",
     "output_type": "stream",
     "text": [
      "Collecting py7zr\r\n",
      "  Downloading py7zr-0.21.1-py3-none-any.whl.metadata (17 kB)\r\n",
      "Requirement already satisfied: texttable in /opt/conda/lib/python3.10/site-packages (from py7zr) (1.7.0)\r\n",
      "Collecting pycryptodomex>=3.16.0 (from py7zr)\r\n",
      "  Downloading pycryptodomex-3.20.0-cp35-abi3-manylinux_2_17_x86_64.manylinux2014_x86_64.whl.metadata (3.4 kB)\r\n",
      "Collecting pyzstd>=0.15.9 (from py7zr)\r\n",
      "  Downloading pyzstd-0.16.0-cp310-cp310-manylinux_2_17_x86_64.manylinux2014_x86_64.whl.metadata (2.4 kB)\r\n",
      "Collecting pyppmd<1.2.0,>=1.1.0 (from py7zr)\r\n",
      "  Downloading pyppmd-1.1.0-cp310-cp310-manylinux_2_17_x86_64.manylinux2014_x86_64.whl.metadata (5.7 kB)\r\n",
      "Collecting pybcj<1.1.0,>=1.0.0 (from py7zr)\r\n",
      "  Downloading pybcj-1.0.2-cp310-cp310-manylinux_2_17_x86_64.manylinux2014_x86_64.whl.metadata (4.0 kB)\r\n",
      "Collecting multivolumefile>=0.2.3 (from py7zr)\r\n",
      "  Downloading multivolumefile-0.2.3-py3-none-any.whl.metadata (6.3 kB)\r\n",
      "Collecting inflate64<1.1.0,>=1.0.0 (from py7zr)\r\n",
      "  Downloading inflate64-1.0.0-cp310-cp310-manylinux_2_17_x86_64.manylinux2014_x86_64.whl.metadata (4.0 kB)\r\n",
      "Requirement already satisfied: brotli>=1.1.0 in /opt/conda/lib/python3.10/site-packages (from py7zr) (1.1.0)\r\n",
      "Requirement already satisfied: psutil in /opt/conda/lib/python3.10/site-packages (from py7zr) (5.9.3)\r\n",
      "Downloading py7zr-0.21.1-py3-none-any.whl (67 kB)\r\n",
      "\u001b[2K   \u001b[90m━━━━━━━━━━━━━━━━━━━━━━━━━━━━━━━━━━━━━━━━\u001b[0m \u001b[32m67.8/67.8 kB\u001b[0m \u001b[31m4.0 MB/s\u001b[0m eta \u001b[36m0:00:00\u001b[0m\r\n",
      "\u001b[?25hDownloading inflate64-1.0.0-cp310-cp310-manylinux_2_17_x86_64.manylinux2014_x86_64.whl (93 kB)\r\n",
      "\u001b[2K   \u001b[90m━━━━━━━━━━━━━━━━━━━━━━━━━━━━━━━━━━━━━━━━\u001b[0m \u001b[32m93.1/93.1 kB\u001b[0m \u001b[31m7.1 MB/s\u001b[0m eta \u001b[36m0:00:00\u001b[0m\r\n",
      "\u001b[?25hDownloading multivolumefile-0.2.3-py3-none-any.whl (17 kB)\r\n",
      "Downloading pybcj-1.0.2-cp310-cp310-manylinux_2_17_x86_64.manylinux2014_x86_64.whl (49 kB)\r\n",
      "\u001b[2K   \u001b[90m━━━━━━━━━━━━━━━━━━━━━━━━━━━━━━━━━━━━━━━━\u001b[0m \u001b[32m49.7/49.7 kB\u001b[0m \u001b[31m3.6 MB/s\u001b[0m eta \u001b[36m0:00:00\u001b[0m\r\n",
      "\u001b[?25hDownloading pycryptodomex-3.20.0-cp35-abi3-manylinux_2_17_x86_64.manylinux2014_x86_64.whl (2.1 MB)\r\n",
      "\u001b[2K   \u001b[90m━━━━━━━━━━━━━━━━━━━━━━━━━━━━━━━━━━━━━━━━\u001b[0m \u001b[32m2.1/2.1 MB\u001b[0m \u001b[31m54.6 MB/s\u001b[0m eta \u001b[36m0:00:00\u001b[0m\r\n",
      "\u001b[?25hDownloading pyppmd-1.1.0-cp310-cp310-manylinux_2_17_x86_64.manylinux2014_x86_64.whl (138 kB)\r\n",
      "\u001b[2K   \u001b[90m━━━━━━━━━━━━━━━━━━━━━━━━━━━━━━━━━━━━━━━━\u001b[0m \u001b[32m138.9/138.9 kB\u001b[0m \u001b[31m10.5 MB/s\u001b[0m eta \u001b[36m0:00:00\u001b[0m\r\n",
      "\u001b[?25hDownloading pyzstd-0.16.0-cp310-cp310-manylinux_2_17_x86_64.manylinux2014_x86_64.whl (413 kB)\r\n",
      "\u001b[2K   \u001b[90m━━━━━━━━━━━━━━━━━━━━━━━━━━━━━━━━━━━━━━━━\u001b[0m \u001b[32m413.8/413.8 kB\u001b[0m \u001b[31m24.1 MB/s\u001b[0m eta \u001b[36m0:00:00\u001b[0m\r\n",
      "\u001b[?25hInstalling collected packages: pyzstd, pyppmd, pycryptodomex, pybcj, multivolumefile, inflate64, py7zr\r\n",
      "Successfully installed inflate64-1.0.0 multivolumefile-0.2.3 py7zr-0.21.1 pybcj-1.0.2 pycryptodomex-3.20.0 pyppmd-1.1.0 pyzstd-0.16.0\r\n",
      "Note: you may need to restart the kernel to use updated packages.\n"
     ]
    }
   ],
   "source": [
    "pip install py7zr"
   ]
  },
  {
   "cell_type": "markdown",
   "id": "47a3265d",
   "metadata": {
    "papermill": {
     "duration": 0.006874,
     "end_time": "2024-07-07T20:00:02.326435",
     "exception": false,
     "start_time": "2024-07-07T20:00:02.319561",
     "status": "completed"
    },
    "tags": []
   },
   "source": [
    "## Extract Training Dataset from 7zr archive"
   ]
  },
  {
   "cell_type": "code",
   "execution_count": 3,
   "id": "9f117c02",
   "metadata": {
    "execution": {
     "iopub.execute_input": "2024-07-07T20:00:02.343141Z",
     "iopub.status.busy": "2024-07-07T20:00:02.342759Z",
     "iopub.status.idle": "2024-07-07T20:00:35.047210Z",
     "shell.execute_reply": "2024-07-07T20:00:35.046221Z"
    },
    "papermill": {
     "duration": 32.721944,
     "end_time": "2024-07-07T20:00:35.055637",
     "exception": false,
     "start_time": "2024-07-07T20:00:02.333693",
     "status": "completed"
    },
    "tags": []
   },
   "outputs": [
    {
     "name": "stdout",
     "output_type": "stream",
     "text": [
      "Processing Completed\n"
     ]
    }
   ],
   "source": [
    "import py7zr\n",
    "\n",
    "# Define paths for extract and archive\n",
    "archive_path = '../input/cifar-10/train.7z'\n",
    "extract_folder = '/kaggle/temp'\n",
    "\n",
    "# Extract the 7zr archive\n",
    "with py7zr.SevenZipFile(archive_path, mode='r') as archive:\n",
    "    archive.extractall(path=extract_folder)\n",
    "\n",
    "# Load the labels CSV file\n",
    "train_labels = pd.read_csv('/kaggle/input/cifar-10/trainLabels.csv')\n",
    "\n",
    "# Define paths for train and validation datsets\n",
    "dataset_path_train = '/kaggle/temp/train'\n",
    "dataset_path_valid = '/kaggle/temp/valid'\n",
    "\n",
    "# Define the class names\n",
    "classes = ['airplane', 'automobile', 'bird', 'cat', 'deer', 'dog', 'frog', 'horse', 'ship', 'truck']\n",
    "\n",
    "# Create directories for each class in train and validation folders\n",
    "for label in classes:\n",
    "    train_path = os.path.join(dataset_path_train, label)\n",
    "    os.makedirs(train_path, exist_ok=True)\n",
    "    \n",
    "    valid_path = os.path.join(dataset_path_valid, label)\n",
    "    os.makedirs(valid_path, exist_ok=True)\n",
    "\n",
    "# Iterate over each label in the CSV    \n",
    "for (int_ind, row) in train_labels.iterrows():\n",
    "    # Construct the image file name\n",
    "    id = str(row[\"id\"]) + \".png\"\n",
    "    source_path = os.path.join(dataset_path_train, id)\n",
    "    \n",
    "    # Check if the image file exists\n",
    "    if not os.path.exists(source_path):\n",
    "        print(f\"Missing source File: {source_path}\")\n",
    "        continue\n",
    "        \n",
    "    # Randomly assign the image to train (80%) or validation (20%) set\n",
    "    p = np.random.random()\n",
    "    if p <= 0.8:\n",
    "        target_path = os.path.join(dataset_path_train, row[\"label\"], id)\n",
    "    else:\n",
    "        target_path = os.path.join(dataset_path_valid, row[\"label\"], id)\n",
    "    \n",
    "    # Move the image file to the corresponding target directory\n",
    "    os.replace(source_path, target_path)\n",
    "    \n",
    "print(\"Processing Completed\")"
   ]
  },
  {
   "cell_type": "markdown",
   "id": "269124a1",
   "metadata": {
    "papermill": {
     "duration": 0.006718,
     "end_time": "2024-07-07T20:00:35.069599",
     "exception": false,
     "start_time": "2024-07-07T20:00:35.062881",
     "status": "completed"
    },
    "tags": []
   },
   "source": [
    "## Extract Test Dataset from 7zr archive"
   ]
  },
  {
   "cell_type": "code",
   "execution_count": 4,
   "id": "28e9fe09",
   "metadata": {
    "execution": {
     "iopub.execute_input": "2024-07-07T20:00:35.085048Z",
     "iopub.status.busy": "2024-07-07T20:00:35.084705Z",
     "iopub.status.idle": "2024-07-07T20:03:14.012795Z",
     "shell.execute_reply": "2024-07-07T20:03:14.011852Z"
    },
    "papermill": {
     "duration": 158.938719,
     "end_time": "2024-07-07T20:03:14.015264",
     "exception": false,
     "start_time": "2024-07-07T20:00:35.076545",
     "status": "completed"
    },
    "tags": []
   },
   "outputs": [],
   "source": [
    "# Define the path to the 7-zip archive containing the test data\n",
    "archive_path = '/kaggle/input/cifar-10/test.7z'\n",
    "\n",
    "# Define the directory where the contents of the archive will be extracted\n",
    "extract_folder = '/kaggle/temp/test'\n",
    "\n",
    "# Open the 7-zip archive in read mode\n",
    "with py7zr.SevenZipFile(archive_path, mode='r') as archive:\n",
    "    # Extract all the contents of the archive to the specified directory\n",
    "    archive.extractall(path=extract_folder)\n"
   ]
  },
  {
   "cell_type": "code",
   "execution_count": 5,
   "id": "ef7c760c",
   "metadata": {
    "execution": {
     "iopub.execute_input": "2024-07-07T20:03:14.032900Z",
     "iopub.status.busy": "2024-07-07T20:03:14.032094Z",
     "iopub.status.idle": "2024-07-07T20:03:14.457646Z",
     "shell.execute_reply": "2024-07-07T20:03:14.456636Z"
    },
    "papermill": {
     "duration": 0.437435,
     "end_time": "2024-07-07T20:03:14.460190",
     "exception": false,
     "start_time": "2024-07-07T20:03:14.022755",
     "status": "completed"
    },
    "tags": []
   },
   "outputs": [],
   "source": [
    "# Get the number of files in the test directory\n",
    "len(os.listdir('/kaggle/temp/test/test'))\n",
    "\n",
    "# Define the path to the test directory\n",
    "path = '/kaggle/temp/test/test'\n",
    "\n",
    "# List all files in the test directory\n",
    "f = os.listdir(path)\n",
    "\n",
    "# Create a new list with the full path of each file\n",
    "new = [str(path) + '/' + s for s in f]\n"
   ]
  },
  {
   "cell_type": "markdown",
   "id": "ac0533ab",
   "metadata": {
    "papermill": {
     "duration": 0.006969,
     "end_time": "2024-07-07T20:03:14.474495",
     "exception": false,
     "start_time": "2024-07-07T20:03:14.467526",
     "status": "completed"
    },
    "tags": []
   },
   "source": [
    "## Fastai vision\n",
    "**Fastai is a high-level deep learning library built on top of PyTorch and provides a simplified interface for training neural networks with best practices in deep learning**"
   ]
  },
  {
   "cell_type": "markdown",
   "id": "b7f0a2b7",
   "metadata": {
    "papermill": {
     "duration": 0.006746,
     "end_time": "2024-07-07T20:03:14.488458",
     "exception": false,
     "start_time": "2024-07-07T20:03:14.481712",
     "status": "completed"
    },
    "tags": []
   },
   "source": [
    "# Data Loader\n",
    "**A `data loader` specifically refers to an object that encapsulates the training, validation, and optionally test datasets in a format suitable for training deep learning models.**\n",
    "\n",
    "It provides a high level interface to specify:\n",
    "* Data Source\n",
    "* Data Augmentation\n",
    "* Batching\n",
    "* Normalization"
   ]
  },
  {
   "cell_type": "code",
   "execution_count": 6,
   "id": "5b6a489b",
   "metadata": {
    "execution": {
     "iopub.execute_input": "2024-07-07T20:03:14.504716Z",
     "iopub.status.busy": "2024-07-07T20:03:14.503846Z",
     "iopub.status.idle": "2024-07-07T20:03:28.937829Z",
     "shell.execute_reply": "2024-07-07T20:03:28.937021Z"
    },
    "papermill": {
     "duration": 14.444675,
     "end_time": "2024-07-07T20:03:28.940173",
     "exception": false,
     "start_time": "2024-07-07T20:03:14.495498",
     "status": "completed"
    },
    "tags": []
   },
   "outputs": [],
   "source": [
    "# Import all necessary functions and classes from fastai.vision\n",
    "from fastai.vision.all import *  \n",
    "\n",
    "# Define the Image Data Loaders\n",
    "dls = ImageDataLoaders.from_folder(\n",
    "    path='/kaggle/temp',              # Path to the folder containing 'train' and 'valid' subdirectories\n",
    "    train='train',                    # Name of the training data subdirectory\n",
    "    valid='valid',                    # Name of the validation data subdirectory\n",
    "    item_tfms=Resize(224),            # Resize all images to 224x224 pixels\n",
    "    bs=64,                            # Batch size of 64\n",
    "    batch_tfms=[*aug_transforms(),    # Apply data augmentation transformations\n",
    "                Normalize.from_stats(*imagenet_stats)]  # Normalize images using ImageNet statistics\n",
    ")\n",
    "\n"
   ]
  },
  {
   "cell_type": "markdown",
   "id": "54be5d09",
   "metadata": {
    "papermill": {
     "duration": 0.010159,
     "end_time": "2024-07-07T20:03:28.957733",
     "exception": false,
     "start_time": "2024-07-07T20:03:28.947574",
     "status": "completed"
    },
    "tags": []
   },
   "source": [
    "# CNN Learner\n",
    "\n",
    "**A `Learner` in Fastai is an object that encapsulates the model architecture, the data loaders (created using the DataBlock API), and various other settings necessary for training and evaluating a deep learning model.**"
   ]
  },
  {
   "cell_type": "code",
   "execution_count": 7,
   "id": "02b5200a",
   "metadata": {
    "execution": {
     "iopub.execute_input": "2024-07-07T20:03:28.974551Z",
     "iopub.status.busy": "2024-07-07T20:03:28.973770Z",
     "iopub.status.idle": "2024-07-07T20:52:40.101674Z",
     "shell.execute_reply": "2024-07-07T20:52:40.100676Z"
    },
    "papermill": {
     "duration": 2951.138606,
     "end_time": "2024-07-07T20:52:40.103796",
     "exception": false,
     "start_time": "2024-07-07T20:03:28.965190",
     "status": "completed"
    },
    "tags": []
   },
   "outputs": [
    {
     "name": "stderr",
     "output_type": "stream",
     "text": [
      "/opt/conda/lib/python3.10/site-packages/fastai/vision/learner.py:301: UserWarning: `cnn_learner` has been renamed to `vision_learner` -- please update your code\n",
      "  warn(\"`cnn_learner` has been renamed to `vision_learner` -- please update your code\")\n",
      "Downloading: \"https://download.pytorch.org/models/resnet152-f82ba261.pth\" to /root/.cache/torch/hub/checkpoints/resnet152-f82ba261.pth\n",
      "100%|██████████| 230M/230M [00:02<00:00, 86.2MB/s]\n"
     ]
    },
    {
     "data": {
      "text/html": [
       "\n",
       "<style>\n",
       "    /* Turns off some styling */\n",
       "    progress {\n",
       "        /* gets rid of default border in Firefox and Opera. */\n",
       "        border: none;\n",
       "        /* Needs to be in here for Safari polyfill so background images work as expected. */\n",
       "        background-size: auto;\n",
       "    }\n",
       "    progress:not([value]), progress:not([value])::-webkit-progress-bar {\n",
       "        background: repeating-linear-gradient(45deg, #7e7e7e, #7e7e7e 10px, #5c5c5c 10px, #5c5c5c 20px);\n",
       "    }\n",
       "    .progress-bar-interrupted, .progress-bar-interrupted::-webkit-progress-bar {\n",
       "        background: #F44336;\n",
       "    }\n",
       "</style>\n"
      ],
      "text/plain": [
       "<IPython.core.display.HTML object>"
      ]
     },
     "metadata": {},
     "output_type": "display_data"
    },
    {
     "data": {
      "text/html": [
       "<table border=\"1\" class=\"dataframe\">\n",
       "  <thead>\n",
       "    <tr style=\"text-align: left;\">\n",
       "      <th>epoch</th>\n",
       "      <th>train_loss</th>\n",
       "      <th>valid_loss</th>\n",
       "      <th>error_rate</th>\n",
       "      <th>time</th>\n",
       "    </tr>\n",
       "  </thead>\n",
       "  <tbody>\n",
       "    <tr>\n",
       "      <td>0</td>\n",
       "      <td>0.768743</td>\n",
       "      <td>0.490524</td>\n",
       "      <td>0.161874</td>\n",
       "      <td>06:27</td>\n",
       "    </tr>\n",
       "  </tbody>\n",
       "</table>"
      ],
      "text/plain": [
       "<IPython.core.display.HTML object>"
      ]
     },
     "metadata": {},
     "output_type": "display_data"
    },
    {
     "data": {
      "text/html": [
       "\n",
       "<style>\n",
       "    /* Turns off some styling */\n",
       "    progress {\n",
       "        /* gets rid of default border in Firefox and Opera. */\n",
       "        border: none;\n",
       "        /* Needs to be in here for Safari polyfill so background images work as expected. */\n",
       "        background-size: auto;\n",
       "    }\n",
       "    progress:not([value]), progress:not([value])::-webkit-progress-bar {\n",
       "        background: repeating-linear-gradient(45deg, #7e7e7e, #7e7e7e 10px, #5c5c5c 10px, #5c5c5c 20px);\n",
       "    }\n",
       "    .progress-bar-interrupted, .progress-bar-interrupted::-webkit-progress-bar {\n",
       "        background: #F44336;\n",
       "    }\n",
       "</style>\n"
      ],
      "text/plain": [
       "<IPython.core.display.HTML object>"
      ]
     },
     "metadata": {},
     "output_type": "display_data"
    },
    {
     "data": {
      "text/html": [
       "<table border=\"1\" class=\"dataframe\">\n",
       "  <thead>\n",
       "    <tr style=\"text-align: left;\">\n",
       "      <th>epoch</th>\n",
       "      <th>train_loss</th>\n",
       "      <th>valid_loss</th>\n",
       "      <th>error_rate</th>\n",
       "      <th>time</th>\n",
       "    </tr>\n",
       "  </thead>\n",
       "  <tbody>\n",
       "    <tr>\n",
       "      <td>0</td>\n",
       "      <td>0.258957</td>\n",
       "      <td>0.158522</td>\n",
       "      <td>0.052785</td>\n",
       "      <td>08:31</td>\n",
       "    </tr>\n",
       "    <tr>\n",
       "      <td>1</td>\n",
       "      <td>0.180731</td>\n",
       "      <td>0.115912</td>\n",
       "      <td>0.037503</td>\n",
       "      <td>08:31</td>\n",
       "    </tr>\n",
       "    <tr>\n",
       "      <td>2</td>\n",
       "      <td>0.110470</td>\n",
       "      <td>0.104845</td>\n",
       "      <td>0.034989</td>\n",
       "      <td>08:31</td>\n",
       "    </tr>\n",
       "    <tr>\n",
       "      <td>3</td>\n",
       "      <td>0.050810</td>\n",
       "      <td>0.087786</td>\n",
       "      <td>0.025035</td>\n",
       "      <td>08:32</td>\n",
       "    </tr>\n",
       "    <tr>\n",
       "      <td>4</td>\n",
       "      <td>0.024632</td>\n",
       "      <td>0.083525</td>\n",
       "      <td>0.023929</td>\n",
       "      <td>08:31</td>\n",
       "    </tr>\n",
       "  </tbody>\n",
       "</table>"
      ],
      "text/plain": [
       "<IPython.core.display.HTML object>"
      ]
     },
     "metadata": {},
     "output_type": "display_data"
    }
   ],
   "source": [
    "# Create a learner with a pre-trained ResNet152 model\n",
    "learn = cnn_learner(dls, resnet152, metrics=error_rate)\n",
    "\n",
    "# Fine-tune the model for 5 epochs\n",
    "learn.fine_tune(5)  "
   ]
  },
  {
   "cell_type": "markdown",
   "id": "f5607090",
   "metadata": {
    "papermill": {
     "duration": 0.010121,
     "end_time": "2024-07-07T20:52:40.124450",
     "exception": false,
     "start_time": "2024-07-07T20:52:40.114329",
     "status": "completed"
    },
    "tags": []
   },
   "source": [
    "# Predictions on Test Set"
   ]
  },
  {
   "cell_type": "code",
   "execution_count": 8,
   "id": "5eb5ee59",
   "metadata": {
    "execution": {
     "iopub.execute_input": "2024-07-07T20:52:40.146460Z",
     "iopub.status.busy": "2024-07-07T20:52:40.145637Z",
     "iopub.status.idle": "2024-07-07T21:10:56.501120Z",
     "shell.execute_reply": "2024-07-07T21:10:56.500016Z"
    },
    "papermill": {
     "duration": 1096.369171,
     "end_time": "2024-07-07T21:10:56.503532",
     "exception": false,
     "start_time": "2024-07-07T20:52:40.134361",
     "status": "completed"
    },
    "tags": []
   },
   "outputs": [
    {
     "data": {
      "text/html": [
       "\n",
       "<style>\n",
       "    /* Turns off some styling */\n",
       "    progress {\n",
       "        /* gets rid of default border in Firefox and Opera. */\n",
       "        border: none;\n",
       "        /* Needs to be in here for Safari polyfill so background images work as expected. */\n",
       "        background-size: auto;\n",
       "    }\n",
       "    progress:not([value]), progress:not([value])::-webkit-progress-bar {\n",
       "        background: repeating-linear-gradient(45deg, #7e7e7e, #7e7e7e 10px, #5c5c5c 10px, #5c5c5c 20px);\n",
       "    }\n",
       "    .progress-bar-interrupted, .progress-bar-interrupted::-webkit-progress-bar {\n",
       "        background: #F44336;\n",
       "    }\n",
       "</style>\n"
      ],
      "text/plain": [
       "<IPython.core.display.HTML object>"
      ]
     },
     "metadata": {},
     "output_type": "display_data"
    },
    {
     "data": {
      "text/html": [],
      "text/plain": [
       "<IPython.core.display.HTML object>"
      ]
     },
     "metadata": {},
     "output_type": "display_data"
    }
   ],
   "source": [
    "# Create a test DataLoader from the list of file paths\n",
    "test_dl = learn.dls.test_dl(new)\n",
    "\n",
    "# Get predictions for the test data\n",
    "class_score, y = learn.get_preds(dl=test_dl)\n",
    "\n",
    "# Get the predicted class indices\n",
    "class_score = np.argmax(class_score, axis=1)\n",
    "\n",
    "# Get the prediction for the second test image (index 1)\n",
    "class_score[1].item()\n",
    "\n",
    "# Convert the predicted class indices to a list\n",
    "classScore = class_score.tolist()\n",
    "\n",
    "# Get the vocabulary of classes\n",
    "learn.dls.vocab\n",
    "\n",
    "# Define a dictionary mapping class indices to class names\n",
    "classes = {0: 'airplane', 1: 'automobile', 2: 'bird', 3: 'cat', 4: 'deer', 5: 'dog', 6: 'frog', 7: 'horse', 8: 'ship', 9: 'truck'}\n",
    "\n",
    "# Initialize an empty array to store the predicted classes\n",
    "predicted_classes = np.empty(shape=300000, dtype=np.dtype('U20'))\n"
   ]
  },
  {
   "cell_type": "code",
   "execution_count": 9,
   "id": "ff7f119e",
   "metadata": {
    "execution": {
     "iopub.execute_input": "2024-07-07T21:10:56.535808Z",
     "iopub.status.busy": "2024-07-07T21:10:56.535279Z",
     "iopub.status.idle": "2024-07-07T21:10:56.754488Z",
     "shell.execute_reply": "2024-07-07T21:10:56.753038Z"
    },
    "papermill": {
     "duration": 0.239272,
     "end_time": "2024-07-07T21:10:56.757561",
     "exception": false,
     "start_time": "2024-07-07T21:10:56.518289",
     "status": "completed"
    },
    "tags": []
   },
   "outputs": [],
   "source": [
    "# Initialize an index variable\n",
    "index = 0\n",
    "\n",
    "# Loop through the list of predicted class indices\n",
    "for i in classScore:\n",
    "    # Assign the class name corresponding to the class index to the predicted_classes array\n",
    "    predicted_classes[index] = classes[i]\n",
    "    \n",
    "    # Increment the index for the next iteration\n",
    "    index += 1\n"
   ]
  },
  {
   "cell_type": "code",
   "execution_count": 10,
   "id": "1847404c",
   "metadata": {
    "execution": {
     "iopub.execute_input": "2024-07-07T21:10:56.785723Z",
     "iopub.status.busy": "2024-07-07T21:10:56.785308Z",
     "iopub.status.idle": "2024-07-07T21:10:57.770244Z",
     "shell.execute_reply": "2024-07-07T21:10:57.769193Z"
    },
    "papermill": {
     "duration": 1.000197,
     "end_time": "2024-07-07T21:10:57.772741",
     "exception": false,
     "start_time": "2024-07-07T21:10:56.772544",
     "status": "completed"
    },
    "tags": []
   },
   "outputs": [],
   "source": [
    "import os\n",
    "import pandas as pd\n",
    "\n",
    "# Define the directory containing the test images\n",
    "directory = '/kaggle/temp/test/test'\n",
    "\n",
    "# Extract image IDs by filtering out non-digit characters from the file names\n",
    "ImageId = [ (''.join(filter(str.isdigit, name))) for name in os.listdir(directory)]\n",
    "\n",
    "# Create a DataFrame for the submission with 'id' and 'label' columns\n",
    "submission = pd.DataFrame({\n",
    "    \"id\": ImageId,          # Assign the extracted image IDs to the 'id' column\n",
    "    \"label\": predicted_classes  # Assign the predicted class names to the 'label' column\n",
    "})\n",
    "\n",
    "# Convert the 'id' column to integers\n",
    "submission['id'] = submission['id'].astype(int)\n",
    "\n",
    "# Save the DataFrame to a CSV file for submission, without the index\n",
    "submission.to_csv('submission.csv', index=False)\n"
   ]
  },
  {
   "cell_type": "markdown",
   "id": "ed3fd131",
   "metadata": {
    "papermill": {
     "duration": 0.010381,
     "end_time": "2024-07-07T21:10:57.794179",
     "exception": false,
     "start_time": "2024-07-07T21:10:57.783798",
     "status": "completed"
    },
    "tags": []
   },
   "source": [
    "# Comparison of Diffrent Models"
   ]
  },
  {
   "cell_type": "code",
   "execution_count": 11,
   "id": "07986fba",
   "metadata": {
    "execution": {
     "iopub.execute_input": "2024-07-07T21:10:57.817165Z",
     "iopub.status.busy": "2024-07-07T21:10:57.816790Z",
     "iopub.status.idle": "2024-07-07T21:10:57.899001Z",
     "shell.execute_reply": "2024-07-07T21:10:57.898069Z"
    },
    "papermill": {
     "duration": 0.096473,
     "end_time": "2024-07-07T21:10:57.901380",
     "exception": false,
     "start_time": "2024-07-07T21:10:57.804907",
     "status": "completed"
    },
    "tags": []
   },
   "outputs": [
    {
     "name": "stdout",
     "output_type": "stream",
     "text": [
      "╒════════════════════════╤════════════╕\n",
      "│ Model                  │ Accuracy   │\n",
      "╞════════════════════════╪════════════╡\n",
      "│ CNN                    │ 28%        │\n",
      "├────────────────────────┼────────────┤\n",
      "│ ResNet50               │ 46%        │\n",
      "├────────────────────────┼────────────┤\n",
      "│ ResNet152 (Fine-tuned) │ 97%        │\n",
      "╘════════════════════════╧════════════╛\n"
     ]
    }
   ],
   "source": [
    "# Importing necessary libraries\n",
    "from tabulate import tabulate\n",
    "\n",
    "# Data for the table\n",
    "data = [\n",
    "    [\"CNN\", \"28%\"],\n",
    "    [\"ResNet50\", \"46%\"],\n",
    "    [\"ResNet152 (Fine-tuned)\", \"97%\"]\n",
    "]\n",
    "\n",
    "# Headers for the table\n",
    "headers = [\"Model\", \"Accuracy\"]\n",
    "\n",
    "# Printing the table using tabulate\n",
    "table = tabulate(data, headers, tablefmt=\"fancy_grid\")\n",
    "\n",
    "# Displaying the table\n",
    "print(table)\n"
   ]
  },
  {
   "cell_type": "code",
   "execution_count": null,
   "id": "e030390b",
   "metadata": {
    "papermill": {
     "duration": 0.010626,
     "end_time": "2024-07-07T21:10:57.923592",
     "exception": false,
     "start_time": "2024-07-07T21:10:57.912966",
     "status": "completed"
    },
    "tags": []
   },
   "outputs": [],
   "source": []
  }
 ],
 "metadata": {
  "kaggle": {
   "accelerator": "gpu",
   "dataSources": [
    {
     "databundleVersionId": 46718,
     "sourceId": 3649,
     "sourceType": "competition"
    },
    {
     "sourceId": 187154732,
     "sourceType": "kernelVersion"
    }
   ],
   "dockerImageVersionId": 30733,
   "isGpuEnabled": true,
   "isInternetEnabled": true,
   "language": "python",
   "sourceType": "notebook"
  },
  "kernelspec": {
   "display_name": "Python 3",
   "language": "python",
   "name": "python3"
  },
  "language_info": {
   "codemirror_mode": {
    "name": "ipython",
    "version": 3
   },
   "file_extension": ".py",
   "mimetype": "text/x-python",
   "name": "python",
   "nbconvert_exporter": "python",
   "pygments_lexer": "ipython3",
   "version": "3.10.13"
  },
  "papermill": {
   "default_parameters": {},
   "duration": 4279.400378,
   "end_time": "2024-07-07T21:11:01.239409",
   "environment_variables": {},
   "exception": null,
   "input_path": "__notebook__.ipynb",
   "output_path": "__notebook__.ipynb",
   "parameters": {},
   "start_time": "2024-07-07T19:59:41.839031",
   "version": "2.5.0"
  }
 },
 "nbformat": 4,
 "nbformat_minor": 5
}
